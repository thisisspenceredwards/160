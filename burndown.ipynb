{
 "cells": [
  {
   "cell_type": "markdown",
   "metadata": {},
   "source": [
    "https://en.wikipedia.org/wiki/Burn_down_chart"
   ]
  },
  {
   "cell_type": "code",
   "execution_count": 42,
   "metadata": {},
   "outputs": [],
   "source": [
    "import pandas as pd\n",
    "\n",
    "import psycopg2\n",
    "import matplotlib.pyplot as plt\n",
    "import datetime"
   ]
  },
  {
   "cell_type": "code",
   "execution_count": 96,
   "metadata": {},
   "outputs": [],
   "source": [
    "# credentials in ~/.pgpass\n",
    "conn = psycopg2.connect(\n",
    "    dbname='redmine',\n",
    "    user='jn',\n",
    "    host='192.168.1.250',\n",
    "    port='5432',\n",
    ")"
   ]
  },
  {
   "cell_type": "code",
   "execution_count": 97,
   "metadata": {},
   "outputs": [],
   "source": [
    "cursor = conn.cursor()"
   ]
  },
  {
   "cell_type": "code",
   "execution_count": 98,
   "metadata": {},
   "outputs": [],
   "source": [
    "conn.rollback()"
   ]
  },
  {
   "cell_type": "code",
   "execution_count": 101,
   "metadata": {},
   "outputs": [
    {
     "data": {
      "text/plain": [
       "[(20,)]"
      ]
     },
     "execution_count": 101,
     "metadata": {},
     "output_type": "execute_result"
    }
   ],
   "source": [
    "cursor.execute('select count(*) from issues')\n",
    "cursor.fetchall()"
   ]
  },
  {
   "cell_type": "code",
   "execution_count": 62,
   "metadata": {},
   "outputs": [],
   "source": [
    "cursor.execute('''\n",
    "select\n",
    "    start_date::date\n",
    "    , due_date::date\n",
    "    , case\n",
    "        when issue_statuses.name in ('Resolved','Feedback','Closed','Rejected')\n",
    "            then updated_on::date\n",
    "        else null\n",
    "    end as completed_date\n",
    "FROM issues\n",
    "inner join issue_statuses on(issue_statuses.id=issues.status_id);\n",
    "''')"
   ]
  },
  {
   "cell_type": "code",
   "execution_count": 63,
   "metadata": {},
   "outputs": [],
   "source": [
    "headers = [c.name for c in cursor.description]"
   ]
  },
  {
   "cell_type": "code",
   "execution_count": 64,
   "metadata": {},
   "outputs": [],
   "source": [
    "rows = [dict(zip(headers, r)) for r in cursor]"
   ]
  },
  {
   "cell_type": "code",
   "execution_count": 66,
   "metadata": {},
   "outputs": [],
   "source": [
    "cursor.execute('select min(start_date) from issues')\n",
    "earliest_date = cursor.fetchone()[0]"
   ]
  },
  {
   "cell_type": "code",
   "execution_count": 67,
   "metadata": {},
   "outputs": [],
   "source": [
    "one_day = datetime.timedelta(days=1)"
   ]
  },
  {
   "cell_type": "code",
   "execution_count": 68,
   "metadata": {},
   "outputs": [],
   "source": [
    "today = datetime.date.today()"
   ]
  },
  {
   "cell_type": "code",
   "execution_count": 69,
   "metadata": {},
   "outputs": [],
   "source": [
    "num_days = (today - earliest_date).days"
   ]
  },
  {
   "cell_type": "code",
   "execution_count": 80,
   "metadata": {},
   "outputs": [
    {
     "data": {
      "text/plain": [
       "20"
      ]
     },
     "execution_count": 80,
     "metadata": {},
     "output_type": "execute_result"
    }
   ],
   "source": [
    "cursor.execute('select count(*) from issues')\n",
    "issue_count = cursor.fetchone()[0]\n",
    "issue_count"
   ]
  },
  {
   "cell_type": "code",
   "execution_count": 81,
   "metadata": {},
   "outputs": [],
   "source": [
    "days = list()\n",
    "curr_day = earliest_date\n",
    "i = 0\n",
    "while curr_day < today:\n",
    "    days.append([issue_count, issue_count])\n",
    "    for row in rows:\n",
    "        cd = row['completed_date']\n",
    "        if cd is not None and cd <= curr_day:\n",
    "            days[i][0] -= 1\n",
    "        sd = row['start_date']\n",
    "        if sd is not None and sd <= curr_day:\n",
    "            days[i][1] -= 1\n",
    "\n",
    "    curr_day += one_day\n",
    "    i += 1"
   ]
  },
  {
   "cell_type": "code",
   "execution_count": 95,
   "metadata": {},
   "outputs": [
    {
     "data": {
      "image/png": "[encoded data removed]",
      "text/plain": [
       "<Figure size 720x360 with 1 Axes>"
      ]
     },
     "metadata": {
      "needs_background": "light"
     },
     "output_type": "display_data"
    }
   ],
   "source": [
    "plt.figure(figsize=[10, 5])\n",
    "plt.title('Burndown Chart')\n",
    "plt.xlabel('Days from the start')\n",
    "plt.ylabel('Number of tasks')\n",
    "_ = plt.plot(range(len(days)), [d[0] for d in days])\n",
    "plt.plot([0, num_days], [issue_count, 0])\n",
    "_ = plt.legend(['tasks remaining', 'ideal tasks remaining'])"
   ]
  }
 ],
 "metadata": {
  "kernelspec": {
   "display_name": "Python (postgres)",
   "language": "python",
   "name": "postgres_kernelspec"
  },
  "language_info": {
   "codemirror_mode": {
    "name": "ipython",
    "version": 3
   },
   "file_extension": ".py",
   "mimetype": "text/x-python",
   "name": "python",
   "nbconvert_exporter": "python",
   "pygments_lexer": "ipython3",
   "version": "3.7.3"
  }
 },
 "nbformat": 4,
 "nbformat_minor": 2
}
